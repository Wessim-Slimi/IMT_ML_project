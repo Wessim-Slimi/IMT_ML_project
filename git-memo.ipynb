{
 "cells": [
  {
   "cell_type": "markdown",
   "metadata": {},
   "source": [
    "# GIT MEMO"
   ]
  },
  {
   "cell_type": "markdown",
   "metadata": {},
   "source": [
    "Creates a new branch names Wessim\n",
    "$ git branch Wessim\n",
    "\n",
    "Go to the new created Branch\n",
    "$ git checkout Wessim\n",
    "\n",
    "Check status of the branch  \n",
    "$ git status\n",
    "\n",
    "Adding tracked files\n",
    "$ git add -A\n",
    "\n",
    "Check differences and or modified files\n",
    "$ git diff\n",
    "\n",
    "Commit changes to local repository\n",
    "$ git commit -m \"COMMIT MESSAGE\"\n",
    "\n",
    "Push the new branch to the remote repository\n",
    "$ git push -u origin Wessim\n",
    "\n",
    "Connect to the master branch\n",
    "$ git checkout main\n",
    "\n",
    "Pull modification done by other people in the master branch\n",
    "$ git pull origin master \n",
    "\n",
    "Merge new created branch with the main branch\n",
    "$ git merge Wessim\n",
    "\n",
    "Push the changes to the remote repo\n",
    "$ git push origin main\n",
    "\n",
    "Delete the new created branch\n",
    "$ git push origin --delete Wessim\n",
    "\n"
   ]
  }
 ],
 "metadata": {
  "kernelspec": {
   "display_name": "Python 3",
   "language": "python",
   "name": "python3"
  },
  "language_info": {
   "codemirror_mode": {
    "name": "ipython",
    "version": 3
   },
   "file_extension": ".py",
   "mimetype": "text/x-python",
   "name": "python",
   "nbconvert_exporter": "python",
   "pygments_lexer": "ipython3",
   "version": "3.7.7"
  }
 },
 "nbformat": 4,
 "nbformat_minor": 4
}
